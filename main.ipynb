{
  "nbformat": 4,
  "nbformat_minor": 0,
  "metadata": {
    "colab": {
      "provenance": [],
      "authorship_tag": "ABX9TyNk7X9QmrVneQeIXrOLG7k9",
      "include_colab_link": true
    },
    "kernelspec": {
      "name": "python3",
      "display_name": "Python 3"
    },
    "language_info": {
      "name": "python"
    }
  },
  "cells": [
    {
      "cell_type": "markdown",
      "metadata": {
        "id": "view-in-github",
        "colab_type": "text"
      },
      "source": [
        "<a href=\"https://colab.research.google.com/github/adiyatma1324/Functions_Reusability/blob/main/main.ipynb\" target=\"_parent\"><img src=\"https://colab.research.google.com/assets/colab-badge.svg\" alt=\"Open In Colab\"/></a>"
      ]
    },
    {
      "cell_type": "code",
      "execution_count": 1,
      "metadata": {
        "colab": {
          "base_uri": "https://localhost:8080/"
        },
        "id": "cL0sYVcbe6Es",
        "outputId": "9738221d-cb60-4455-e418-352e27c59aa6"
      },
      "outputs": [
        {
          "output_type": "stream",
          "name": "stdout",
          "text": [
            "=== KONVERSI SUHU ===\n",
            "Masukkan nilai suhu: 27\n",
            "Dari satuan (C/F/K): c\n",
            "Ke satuan (C/F/K): k\n",
            "Hasil: 27.0°C = 300.1K\n"
          ]
        }
      ],
      "source": [
        "from utils import konversi_suhu\n",
        "\n",
        "print(\"=== KONVERSI SUHU ===\")\n",
        "\n",
        "try:\n",
        "    nilai = float(input(\"Masukkan nilai suhu: \"))\n",
        "    dari = input(\"Dari satuan (C/F/K): \").strip().lower()\n",
        "    ke = input(\"Ke satuan (C/F/K): \").strip().lower()\n",
        "\n",
        "    if dari not in [\"c\", \"f\", \"k\"] or ke not in [\"c\", \"f\", \"k\"]:\n",
        "        print(\"Error: Satuan harus hanya C, F, atau K.\")\n",
        "    else:\n",
        "        hasil = konversi_suhu(nilai, dari, ke)\n",
        "\n",
        "        if isinstance(hasil, str):\n",
        "            print(hasil)\n",
        "        else:\n",
        "            satuan_map = {\"c\": \"°C\", \"f\": \"°F\", \"k\": \"K\"}\n",
        "            print(f\"Hasil: {nilai}{satuan_map[dari]} = {hasil:.1f}{satuan_map[ke]}\")\n",
        "\n",
        "except ValueError:\n",
        "    print(\"Error: Nilai suhu harus berupa angka.\")"
      ]
    }
  ]
}